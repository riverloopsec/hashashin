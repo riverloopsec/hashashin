{
 "cells": [
  {
   "cell_type": "code",
   "execution_count": 3,
   "metadata": {
    "collapsed": true
   },
   "outputs": [],
   "source": [
    "from hashashin.metrics import compute_metrics, compute_matrices, show_similarity_matrix, hash_paths\n",
    "\n",
    "from hashashin.main import ApplicationFactory, HashashinApplicationContext\n",
    "from hashashin.classes import BinjaFeatureExtractor\n",
    "from hashashin.db import HashRepository\n",
    "app_context = HashashinApplicationContext(\n",
    "                extractor=BinjaFeatureExtractor(),\n",
    "                hash_repo=HashRepository(),\n",
    "                target_path=None,\n",
    "                save_to_db=True\n",
    "            )\n",
    "hashApp = ApplicationFactory.getHasher(app_context)\n",
    "matchApp = ApplicationFactory.getMatcher(app_context)"
   ]
  },
  {
   "cell_type": "code",
   "execution_count": 4,
   "outputs": [
    {
     "name": "stderr",
     "output_type": "stream",
     "text": [
      "INFO:hashashin.metrics.py:Computing signatures for [PosixPath('binary_data/net-snmp/v5.9.2/bin'), PosixPath('binary_data/net-snmp/v5.9.2/include'), PosixPath('binary_data/net-snmp/v5.9.2/sbin'), PosixPath('binary_data/net-snmp/v5.9.2/lib'), PosixPath('binary_data/net-snmp/v5.9.2/share'), PosixPath('binary_data/net-snmp/v5.9.2/.bin.idx')]..\n",
      "INFO:hashashin.main.py:Hashing [PosixPath('binary_data/net-snmp/v5.9.2/bin'), PosixPath('binary_data/net-snmp/v5.9.2/include'), PosixPath('binary_data/net-snmp/v5.9.2/sbin'), PosixPath('binary_data/net-snmp/v5.9.2/lib'), PosixPath('binary_data/net-snmp/v5.9.2/share'), PosixPath('binary_data/net-snmp/v5.9.2/.bin.idx')]\n",
      "INFO:hashashin:Iterating over 1 files. If you see this, consider using --progress.\n",
      "INFO:hashashin.main.py:Hashing 21 binaries\n"
     ]
    },
    {
     "name": "stdout",
     "output_type": "stream",
     "text": [
      "Globbing binary_data/net-snmp/v5.9.2/*\n"
     ]
    },
    {
     "name": "stderr",
     "output_type": "stream",
     "text": [
      "INFO:hashashin.metrics.py:Done computing signatures.\n",
      "INFO:hashashin.metrics.py:Computing signatures for [PosixPath('binary_data/net-snmp/v5.9.3/bin'), PosixPath('binary_data/net-snmp/v5.9.3/include'), PosixPath('binary_data/net-snmp/v5.9.3/sbin'), PosixPath('binary_data/net-snmp/v5.9.3/lib'), PosixPath('binary_data/net-snmp/v5.9.3/share'), PosixPath('binary_data/net-snmp/v5.9.3/.bin.idx')]..\n",
      "INFO:hashashin.main.py:Hashing [PosixPath('binary_data/net-snmp/v5.9.3/bin'), PosixPath('binary_data/net-snmp/v5.9.3/include'), PosixPath('binary_data/net-snmp/v5.9.3/sbin'), PosixPath('binary_data/net-snmp/v5.9.3/lib'), PosixPath('binary_data/net-snmp/v5.9.3/share'), PosixPath('binary_data/net-snmp/v5.9.3/.bin.idx')]\n",
      "INFO:hashashin.main.py:Hashing 21 binaries\n"
     ]
    },
    {
     "name": "stdout",
     "output_type": "stream",
     "text": [
      "Globbing binary_data/net-snmp/v5.9.3/*\n"
     ]
    },
    {
     "name": "stderr",
     "output_type": "stream",
     "text": [
      "INFO:hashashin.metrics.py:Done computing signatures.\n"
     ]
    }
   ],
   "source": [
    "net_snmp2 = hash_paths(\"net-snmp/v5.9.2\", hashApp, paths=\"*\")\n",
    "net_snmp3 = hash_paths(\"net-snmp/v5.9.3\", hashApp, paths=\"*\")"
   ],
   "metadata": {
    "collapsed": false
   }
  },
  {
   "cell_type": "code",
   "execution_count": 13,
   "outputs": [
    {
     "name": "stdout",
     "output_type": "stream",
     "text": [
      "v5.9.2: 21 binaries\n",
      "['snmptranslate', 'snmpset', 'snmpdelta', 'snmpdf', 'snmpstatus', 'snmpusm', 'snmpvacm', 'encode_keychange', 'agentxtrap', 'snmpnetstat', 'snmpgetnext', 'snmpbulkwalk', 'snmpinform', 'snmpget', 'snmptable', 'snmpbulkget', 'snmpping', 'snmpwalk', 'snmptest', 'snmpd', 'snmptrapd']\n",
      "v5.9.3: 21 binaries\n",
      "['snmptranslate', 'snmpset', 'snmpdelta', 'snmpdf', 'snmpstatus', 'snmpusm', 'snmpvacm', 'encode_keychange', 'agentxtrap', 'snmpnetstat', 'snmpgetnext', 'snmpbulkwalk', 'snmpinform', 'snmpget', 'snmptable', 'snmpbulkget', 'snmpping', 'snmpwalk', 'snmptest', 'snmpd', 'snmptrapd']\n"
     ]
    }
   ],
   "source": [
    "print(f\"v5.9.2: {len(net_snmp2)} binaries\")\n",
    "print([b.path.name for b in net_snmp2])\n",
    "print(f\"v5.9.3: {len(net_snmp3)} binaries\")\n",
    "print([b.path.name for b in net_snmp3])"
   ],
   "metadata": {
    "collapsed": false
   }
  },
  {
   "cell_type": "code",
   "execution_count": 28,
   "outputs": [
    {
     "name": "stdout",
     "output_type": "stream",
     "text": [
      "snmptranslate closest match: 1.0\n",
      "\tsnmptranslate: 1.0\n",
      "\tsnmpset: 0.4\n",
      "\tencode_keychange: 0.4\n",
      "snmpset closest match: 1.0\n",
      "\tsnmpset: 1.0\n",
      "\tsnmpdelta: 0.5\n",
      "\tencode_keychange: 0.5\n",
      "snmpdelta closest match: 1.0\n",
      "\tsnmpdelta: 1.0\n",
      "\tsnmpgetnext: 0.55\n",
      "\tsnmpset: 0.5\n",
      "snmpdf closest match: 1.0\n",
      "\tsnmpdf: 1.0\n",
      "\tsnmpdelta: 0.45\n",
      "\tsnmpgetnext: 0.45\n",
      "snmpstatus closest match: 1.0\n",
      "\tsnmpstatus: 1.0\n",
      "\tsnmpset: 0.45\n",
      "\tsnmpgetnext: 0.45\n",
      "snmpusm closest match: 1.0\n",
      "\tsnmpusm: 1.0\n",
      "\tencode_keychange: 0.4\n",
      "\tsnmptranslate: 0.35\n",
      "snmpvacm closest match: 0.55\n",
      "\tsnmpvacm: 0.55\n",
      "\tsnmpset: 0.5\n",
      "\tsnmpdelta: 0.45\n",
      "encode_keychange closest match: 1.0\n",
      "\tencode_keychange: 1.0\n",
      "\tsnmpset: 0.5\n",
      "\tsnmpdelta: 0.45\n",
      "agentxtrap closest match: 1.0\n",
      "\tagentxtrap: 1.0\n",
      "\tsnmpinform: 0.25\n",
      "\tsnmpbulkget: 0.25\n",
      "snmpnetstat closest match: 1.0\n",
      "\tsnmpnetstat: 1.0\n",
      "\tsnmpdelta: 0.35\n",
      "\tsnmpbulkget: 0.35\n",
      "snmpgetnext closest match: 1.0\n",
      "\tsnmpgetnext: 1.0\n",
      "\tsnmpget: 0.85\n",
      "\tsnmpbulkget: 0.6\n",
      "snmpbulkwalk closest match: 0.25\n",
      "\tsnmpdf: 0.25\n",
      "\tsnmpbulkwalk: 0.25\n",
      "\tsnmpbulkget: 0.25\n",
      "snmpinform closest match: 1.0\n",
      "\tsnmpinform: 1.0\n",
      "\tsnmpbulkget: 0.45\n",
      "\tsnmpgetnext: 0.4\n",
      "snmpget closest match: 1.0\n",
      "\tsnmpget: 1.0\n",
      "\tsnmpgetnext: 0.85\n",
      "\tsnmpbulkget: 0.6\n",
      "snmptable closest match: 0.65\n",
      "\tsnmptable: 0.65\n",
      "\tsnmpgetnext: 0.4\n",
      "\tsnmpbulkget: 0.4\n",
      "snmpbulkget closest match: 1.0\n",
      "\tsnmpbulkget: 1.0\n",
      "\tsnmpgetnext: 0.6\n",
      "\tsnmpget: 0.6\n",
      "snmpping closest match: 1.0\n",
      "\tsnmpping: 1.0\n",
      "\tsnmpdelta: 0.45\n",
      "\tsnmpvacm: 0.45\n",
      "snmpwalk closest match: 1.0\n",
      "\tsnmpwalk: 1.0\n",
      "\tsnmpdelta: 0.45\n",
      "\tencode_keychange: 0.45\n",
      "snmptest closest match: 1.0\n",
      "\tsnmptest: 1.0\n",
      "\tsnmpdelta: 0.4\n",
      "\tsnmpgetnext: 0.4\n",
      "snmpd closest match: 1.0\n",
      "\tsnmpd: 1.0\n",
      "\tsnmptranslate: 0.05\n",
      "\tsnmpset: 0.05\n",
      "snmptrapd closest match: 1.0\n",
      "\tsnmptrapd: 1.0\n",
      "\tsnmptest: 0.3\n",
      "\tsnmpset: 0.25\n"
     ]
    }
   ],
   "source": [
    "for b in net_snmp2:\n",
    "    closest_matches = sorted(net_snmp3, key=lambda x: b // x, reverse=True)\n",
    "    print(f\"{b.path.name} closest match: {b // closest_matches[0]}\")\n",
    "    for c in closest_matches[:3]:\n",
    "        print(f\"\\t{c.path.name}: {b // c}\")"
   ],
   "metadata": {
    "collapsed": false
   }
  },
  {
   "cell_type": "markdown",
   "source": [
    "# Quickly match binaries with same base"
   ],
   "metadata": {
    "collapsed": false
   }
  },
  {
   "cell_type": "code",
   "execution_count": 30,
   "outputs": [
    {
     "data": {
      "text/plain": "hashashin.classes.BinarySignature"
     },
     "execution_count": 30,
     "metadata": {},
     "output_type": "execute_result"
    }
   ],
   "source": [
    "type(net_snmp2[0])"
   ],
   "metadata": {
    "collapsed": false
   }
  },
  {
   "cell_type": "code",
   "execution_count": 31,
   "outputs": [
    {
     "name": "stderr",
     "output_type": "stream",
     "text": [
      "WARNING:hashashin.db.py:This is a very slow operation. (O(n))\n",
      "WARNING:hashashin.classes.py:Truncated dominator signature for binary_data/libcurl/curl-7_49_0/bin/curl: uint64_t getparameter(char* arg1, char* arg2, char* arg3, int64_t* arg4, int64_t* arg5) @ 0x10811))\n",
      "WARNING:hashashin.classes.py:Truncated dominator signature for binary_data/libcurl/curl-7_49_0/bin/curl: uint64_t operate_do(void* arg1, int64_t* arg2) @ 0x154C5))\n",
      "WARNING:hashashin.classes.py:Truncated dominator signature for binary_data/libcurl/curl-7_49_0/bin/curl: uint64_t Curl_setopt(void* arg1, int32_t arg2, int32_t* arg3) @ 0x2FCC9))\n",
      "WARNING:hashashin.classes.py:Truncated dominator signature for binary_data/libcurl/curl-7_66_0/bin/curl: uint64_t operate(uint32_t* arg1, int32_t arg2, void* arg3) @ 0x1B3D6))\n",
      "WARNING:hashashin.classes.py:Truncated dominator signature for binary_data/libcurl/curl-7_66_0/bin/curl: uint64_t Curl_vsetopt(void* arg1, int32_t arg2, int32_t* arg3) @ 0x30D35))\n",
      "WARNING:hashashin.classes.py:Truncated dominator signature for binary_data/libcurl/curl-7_66_0/bin/curl: uint64_t Curl_connect(void* arg1, char* arg2, char* arg3) @ 0x436CB))\n",
      "WARNING:hashashin.classes.py:Truncated dominator signature for binary_data/libcurl/curl-7_81_0/bin/curl: uint64_t create_transfer(int32_t* arg1, int64_t arg2, char* arg3) @ 0x1E520))\n",
      "WARNING:hashashin.classes.py:Truncated dominator signature for binary_data/libcurl/curl-7_81_0/bin/curl: uint64_t Curl_vsetopt(void* arg1, int32_t arg2, int32_t* arg3) @ 0x32906))\n",
      "WARNING:hashashin.classes.py:Truncated dominator signature for binary_data/libcurl/curl-7_49_1/bin/curl: uint64_t operate_do(void* arg1, int64_t* arg2) @ 0x154E2))\n",
      "WARNING:hashashin.classes.py:Truncated dominator signature for binary_data/libcurl/curl-7_49_1/bin/curl: uint64_t Curl_setopt(void* arg1, int32_t arg2, int32_t* arg3) @ 0x2F233))\n",
      "WARNING:hashashin.classes.py:Truncated dominator signature for binary_data/libcurl/curl-7_68_0/bin/curl: uint64_t create_transfer(int32_t* arg1, int64_t arg2, char* arg3) @ 0x1AE71))\n",
      "WARNING:hashashin.classes.py:Truncated dominator signature for binary_data/libcurl/curl-7_68_0/bin/curl: uint64_t Curl_vsetopt(void* arg1, int32_t arg2, int32_t* arg3) @ 0x30DD7))\n",
      "WARNING:hashashin.classes.py:Truncated dominator signature for binary_data/libcurl/curl-7_68_0/bin/curl: uint64_t Curl_connect(char* arg1, char* arg2, char* arg3) @ 0x438FE))\n",
      "WARNING:hashashin.classes.py:Truncated dominator signature for binary_data/libcurl/curl-7_62_0/bin/curl: uint64_t getparameter(char* arg1, char* arg2, char* arg3, int64_t* arg4, uint64_t arg5) @ 0x15176))\n",
      "WARNING:hashashin.classes.py:Truncated dominator signature for binary_data/libcurl/curl-7_62_0/bin/curl: uint64_t Curl_vsetopt(void* arg1, int32_t arg2, int32_t* arg3) @ 0x2EB2C))\n",
      "WARNING:hashashin.classes.py:Truncated dominator signature for binary_data/libcurl/curl-7_78_0/bin/curl: uint64_t getparameter(char* arg1, char* arg2, char* arg3, int32_t* arg4, char* arg5) @ 0x17860))\n",
      "WARNING:hashashin.classes.py:Truncated dominator signature for binary_data/libcurl/curl-7_78_0/bin/curl: uint64_t create_transfer(int32_t* arg1, int64_t arg2, char* arg3) @ 0x1D69D))\n",
      "WARNING:hashashin.classes.py:Truncated dominator signature for binary_data/libcurl/curl-7_78_0/bin/curl: uint64_t Curl_vsetopt(void* arg1, int32_t arg2, int32_t* arg3) @ 0x31C24))\n",
      "WARNING:hashashin.classes.py:Truncated dominator signature for binary_data/libcurl/curl-7_78_0/bin/curl: uint64_t Curl_connect(struct Elf64_Header** arg1, char* arg2, char* arg3, int64_t arg4) @ 0x3C185))\n",
      "WARNING:hashashin.classes.py:Truncated dominator signature for binary_data/libcurl/curl-7_72_0/bin/curl: uint64_t getparameter(char* arg1, char* arg2, char* arg3, int32_t* arg4, char* arg5) @ 0x1676D))\n",
      "WARNING:hashashin.classes.py:Truncated dominator signature for binary_data/libcurl/curl-7_72_0/bin/curl: uint64_t create_transfer(int32_t* arg1, int64_t arg2, char* arg3) @ 0x1C081))\n",
      "WARNING:hashashin.classes.py:Truncated dominator signature for binary_data/libcurl/curl-7_72_0/bin/curl: uint64_t Curl_connect(char* arg1, char* arg2, char* arg3) @ 0x273BA))\n",
      "WARNING:hashashin.classes.py:Truncated dominator signature for binary_data/libcurl/curl-7_72_0/bin/curl: uint64_t Curl_vsetopt(void* arg1, int32_t arg2, int32_t* arg3) @ 0x3FD02))\n",
      "WARNING:hashashin.classes.py:Truncated dominator signature for binary_data/libcurl/curl-7_53_1/bin/curl: uint64_t getparameter(char* arg1, char* arg2, char* arg3, int64_t* arg4, int64_t* arg5) @ 0x11AF3))\n",
      "WARNING:hashashin.classes.py:Truncated dominator signature for binary_data/libcurl/curl-7_53_1/bin/curl: uint64_t operate_do(void* arg1, int64_t* arg2) @ 0x16C43))\n",
      "WARNING:hashashin.classes.py:Truncated dominator signature for binary_data/libcurl/curl-7_53_1/bin/curl: uint64_t Curl_setopt(void* arg1, int32_t arg2, int32_t* arg3) @ 0x32B84))\n",
      "WARNING:hashashin.classes.py:Truncated dominator signature for binary_data/libcurl/curl-7_53_1/bin/curl: uint64_t Curl_connect(void* arg1, void*** arg2, char* arg3, char* arg4) @ 0x36BBD))\n",
      "WARNING:hashashin.classes.py:Truncated dominator signature for binary_data/libcurl/curl-7_57_0/bin/curl: uint64_t getparameter(char* arg1, char* arg2, char* arg3, int64_t* arg4, int64_t* arg5) @ 0x149F1))\n",
      "WARNING:hashashin.classes.py:Truncated dominator signature for binary_data/libcurl/curl-7_57_0/bin/curl: uint64_t operate_do(void* arg1, int64_t* arg2) @ 0x19F57))\n",
      "WARNING:hashashin.classes.py:Truncated dominator signature for binary_data/libcurl/curl-7_76_1/bin/curl: uint64_t create_transfer(int32_t* arg1, int64_t arg2, char* arg3) @ 0x1D606))\n",
      "WARNING:hashashin.classes.py:Truncated dominator signature for binary_data/libcurl/curl-7_76_1/bin/curl: uint64_t Curl_vsetopt(void* arg1, int32_t arg2, int32_t* arg3) @ 0x310C3))\n",
      "WARNING:hashashin.classes.py:Truncated dominator signature for binary_data/libcurl/curl-7_53_0/bin/curl: uint64_t getparameter(char* arg1, char* arg2, char* arg3, int64_t* arg4, int64_t* arg5) @ 0x11AB3))\n",
      "WARNING:hashashin.classes.py:Truncated dominator signature for binary_data/libcurl/curl-7_53_0/bin/curl: uint64_t operate_do(void* arg1, int64_t* arg2) @ 0x16C03))\n",
      "WARNING:hashashin.classes.py:Truncated dominator signature for binary_data/libcurl/curl-7_53_0/bin/curl: uint64_t Curl_setopt(void* arg1, int32_t arg2, int32_t* arg3) @ 0x32B1C))\n",
      "WARNING:hashashin.classes.py:Truncated dominator signature for binary_data/libcurl/curl-7_53_0/bin/curl: uint64_t Curl_connect(void* arg1, void*** arg2, char* arg3, char* arg4) @ 0x36B55))\n",
      "WARNING:hashashin.classes.py:Truncated dominator signature for binary_data/libcurl/curl-7_59_0/bin/curl: uint64_t getparameter(char* arg1, char* arg2, char* arg3, int64_t* arg4, int64_t* arg5) @ 0x14F4E))\n",
      "WARNING:hashashin.classes.py:Truncated dominator signature for binary_data/libcurl/curl-7_59_0/bin/curl: uint64_t Curl_vsetopt(void* arg1, int32_t arg2, int32_t* arg3) @ 0x2E9FE))\n",
      "WARNING:hashashin.classes.py:Truncated dominator signature for binary_data/libcurl/curl-7_76_0/bin/curl: uint64_t create_transfer(int32_t* arg1, int64_t arg2, char* arg3) @ 0x1D5E6))\n",
      "WARNING:hashashin.classes.py:Truncated dominator signature for binary_data/libcurl/curl-7_76_0/bin/curl: uint64_t Curl_vsetopt(void* arg1, int32_t arg2, int32_t* arg3) @ 0x31047))\n",
      "WARNING:hashashin.classes.py:Truncated dominator signature for binary_data/libcurl/curl-7_65_0/bin/curl: uint64_t getparameter(char* arg1, char* arg2, char* arg3, int64_t* arg4, uint64_t arg5) @ 0x15509))\n",
      "WARNING:hashashin.classes.py:Truncated dominator signature for binary_data/libcurl/curl-7_82_0/bin/curl: uint64_t Curl_vsetopt(void* arg1, int32_t arg2, int32_t* arg3) @ 0x32A32))\n",
      "WARNING:hashashin.classes.py:Truncated dominator signature for binary_data/libcurl/curl-7_61_1/bin/curl: uint64_t getparameter(char* arg1, char* arg2, char* arg3, int64_t* arg4, uint64_t arg5) @ 0x150AC))\n",
      "WARNING:hashashin.classes.py:Truncated dominator signature for binary_data/libcurl/curl-7_61_1/bin/curl: uint64_t operate_do(void* arg1, int64_t* arg2) @ 0x1A83B))\n",
      "WARNING:hashashin.classes.py:Truncated dominator signature for binary_data/libcurl/curl-7_61_1/bin/curl: uint64_t Curl_vsetopt(void* arg1, int32_t arg2, int32_t* arg3) @ 0x2F02B))\n",
      "WARNING:hashashin.classes.py:Truncated dominator signature for binary_data/libcurl/curl-7_61_1/bin/curl: uint64_t Curl_connect(void* arg1, int64_t* arg2, char* arg3, char* arg4) @ 0x3FFA3))\n",
      "WARNING:hashashin.classes.py:Truncated dominator signature for binary_data/libcurl/curl-7_65_1/bin/curl: uint64_t getparameter(char* arg1, char* arg2, char* arg3, int64_t* arg4, uint64_t arg5) @ 0x15509))\n",
      "WARNING:hashashin.classes.py:Truncated dominator signature for binary_data/libcurl/curl-7_65_1/bin/curl: uint64_t Curl_connect(void* arg1, char* arg2, char* arg3) @ 0x3F83C))\n",
      "WARNING:hashashin.classes.py:Truncated dominator signature for binary_data/libcurl/curl-7_61_0/bin/curl: uint64_t operate_do(void* arg1, int64_t* arg2) @ 0x1A776))\n",
      "WARNING:hashashin.classes.py:Truncated dominator signature for binary_data/libcurl/curl-7_61_0/bin/curl: uint64_t Curl_vsetopt(void* arg1, int32_t arg2, int32_t* arg3) @ 0x2EE70))\n",
      "WARNING:hashashin.classes.py:Truncated dominator signature for binary_data/libcurl/curl-7_61_0/bin/curl: uint64_t Curl_connect(void* arg1, int64_t* arg2, char* arg3, char* arg4) @ 0x3FBE0))\n",
      "WARNING:hashashin.classes.py:Truncated dominator signature for binary_data/libcurl/curl-7_54_0/bin/curl: uint64_t getparameter(char* arg1, char* arg2, char* arg3, int64_t* arg4, int64_t* arg5) @ 0x11A88))\n",
      "WARNING:hashashin.classes.py:Truncated dominator signature for binary_data/libcurl/curl-7_54_0/bin/curl: uint64_t operate_do(void* arg1, int64_t* arg2) @ 0x16BF8))\n",
      "WARNING:hashashin.classes.py:Truncated dominator signature for binary_data/libcurl/curl-7_54_0/bin/curl: uint64_t Curl_setopt(void* arg1, int32_t arg2, int32_t* arg3) @ 0x32BA1))\n",
      "WARNING:hashashin.classes.py:Truncated dominator signature for binary_data/libcurl/curl-7_54_0/bin/curl: uint64_t Curl_connect(void* arg1, void*** arg2, char* arg3, char* arg4) @ 0x36C10))\n",
      "WARNING:hashashin.classes.py:Truncated dominator signature for binary_data/libcurl/curl-7_50_1/bin/curl: uint64_t operate_do(void* arg1, int64_t* arg2) @ 0x154F5))\n",
      "WARNING:hashashin.classes.py:Truncated dominator signature for binary_data/libcurl/curl-7_50_1/bin/curl: uint64_t Curl_setopt(void* arg1, int32_t arg2, int32_t* arg3) @ 0x2FA0A))\n",
      "WARNING:hashashin.classes.py:Truncated dominator signature for binary_data/libcurl/curl-7_71_0/bin/curl: uint64_t getparameter(char* arg1, char* arg2, char* arg3, int32_t* arg4, char* arg5) @ 0x16752))\n",
      "WARNING:hashashin.classes.py:Truncated dominator signature for binary_data/libcurl/curl-7_71_0/bin/curl: uint64_t create_transfer(int32_t* arg1, int64_t arg2, char* arg3) @ 0x1BFF4))\n",
      "WARNING:hashashin.classes.py:Truncated dominator signature for binary_data/libcurl/curl-7_71_0/bin/curl: uint64_t Curl_vsetopt(void* arg1, int32_t arg2, int32_t* arg3) @ 0x3FABB))\n",
      "WARNING:hashashin.classes.py:Truncated dominator signature for binary_data/libcurl/curl-7_75_0/bin/curl: uint64_t create_transfer(int32_t* arg1, int64_t arg2, char* arg3) @ 0x1C513))\n",
      "WARNING:hashashin.classes.py:Truncated dominator signature for binary_data/libcurl/curl-7_75_0/bin/curl: uint64_t Curl_vsetopt(void* arg1, int32_t arg2, int32_t* arg3) @ 0x2FEE8))\n",
      "WARNING:hashashin.classes.py:Truncated dominator signature for binary_data/libcurl/curl-7_54_1/bin/curl: uint64_t getparameter(char* arg1, char* arg2, void** const arg3, int64_t* arg4, int64_t* arg5) @ 0x12A48))\n",
      "WARNING:hashashin.classes.py:Truncated dominator signature for binary_data/libcurl/curl-7_54_1/bin/curl: uint64_t operate_do(void* arg1, int64_t* arg2) @ 0x17DA8))\n",
      "WARNING:hashashin.classes.py:Truncated dominator signature for binary_data/libcurl/curl-7_54_1/bin/curl: uint64_t Curl_setopt(void* arg1, int32_t arg2, int32_t* arg3) @ 0x33E81))\n",
      "WARNING:hashashin.classes.py:Truncated dominator signature for binary_data/libcurl/curl-7_54_1/bin/curl: uint64_t Curl_connect(void* arg1, void*** arg2, char* arg3, char* arg4) @ 0x37F44))\n",
      "WARNING:hashashin.classes.py:Truncated dominator signature for binary_data/libcurl/curl-7_50_0/bin/curl: uint64_t operate_do(void* arg1, int64_t* arg2) @ 0x154F5))\n",
      "WARNING:hashashin.classes.py:Truncated dominator signature for binary_data/libcurl/curl-7_50_0/bin/curl: uint64_t Curl_setopt(void* arg1, int32_t arg2, int32_t* arg3) @ 0x2F9AF))\n",
      "WARNING:hashashin.classes.py:Truncated dominator signature for binary_data/libcurl/curl-7_71_1/bin/curl: uint64_t getparameter(char* arg1, char* arg2, char* arg3, int32_t* arg4, char* arg5) @ 0x1674C))\n",
      "WARNING:hashashin.classes.py:Truncated dominator signature for binary_data/libcurl/curl-7_71_1/bin/curl: uint64_t create_transfer(int32_t* arg1, int64_t arg2, char* arg3) @ 0x1BFEE))\n",
      "WARNING:hashashin.classes.py:Truncated dominator signature for binary_data/libcurl/curl-7_71_1/bin/curl: uint64_t Curl_vsetopt(void* arg1, int32_t arg2, int32_t* arg3) @ 0x3FB34))\n",
      "WARNING:hashashin.classes.py:Truncated dominator signature for binary_data/libcurl/curl-7_83_0/bin/curl: uint64_t Curl_vsetopt(void* arg1, int32_t arg2, int32_t* arg3) @ 0x32499))\n",
      "WARNING:hashashin.classes.py:Truncated dominator signature for binary_data/libcurl/curl-7_83_0/bin/curl: uint64_t Curl_connect(char* arg1, char* arg2, char* arg3, int64_t arg4) @ 0x3CCB4))\n",
      "WARNING:hashashin.classes.py:Truncated dominator signature for binary_data/libcurl/curl-7_64_0/bin/curl: uint64_t getparameter(char* arg1, char* arg2, char* arg3, int64_t* arg4, uint64_t arg5) @ 0x151CF))\n",
      "WARNING:hashashin.classes.py:Truncated dominator signature for binary_data/libcurl/curl-7_64_0/bin/curl: uint64_t Curl_vsetopt(void* arg1, int32_t arg2, int32_t* arg3) @ 0x2EE14))\n",
      "WARNING:hashashin.classes.py:Truncated dominator signature for binary_data/libcurl/curl-7_64_0/bin/curl: uint64_t Curl_connect(void* arg1, char* arg2, char* arg3) @ 0x4164B))\n",
      "WARNING:hashashin.classes.py:Truncated dominator signature for binary_data/libcurl/curl-7_64_1/bin/curl: uint64_t curl_easy_setopt(void* arg1, int32_t arg2) @ 0x2D000))\n",
      "WARNING:hashashin.classes.py:Truncated dominator signature for binary_data/libcurl/curl-7_64_1/bin/curl: uint64_t Curl_connect(void* arg1, char* arg2, char* arg3) @ 0x3F764))\n",
      "WARNING:hashashin.classes.py:Truncated dominator signature for binary_data/libcurl/curl-7_83_1/bin/curl: uint64_t Curl_vsetopt(void* arg1, int32_t arg2, int32_t* arg3) @ 0x32550))\n",
      "WARNING:hashashin.classes.py:Truncated dominator signature for binary_data/libcurl/curl-7_60_0/bin/curl: uint64_t getparameter(char* arg1, char* arg2, char* arg3, int64_t* arg4, int64_t* arg5) @ 0x14F63))\n",
      "WARNING:hashashin.classes.py:Truncated dominator signature for binary_data/libcurl/curl-7_60_0/bin/curl: uint64_t operate_do(void* arg1, int64_t* arg2) @ 0x1A54C))\n",
      "WARNING:hashashin.classes.py:Truncated dominator signature for binary_data/libcurl/curl-7_60_0/bin/curl: uint64_t Curl_vsetopt(void* arg1, int32_t arg2, int32_t* arg3) @ 0x2EBDB))\n",
      "WARNING:hashashin.classes.py:Truncated dominator signature for binary_data/libcurl/curl-7_55_0/bin/curl: uint64_t getparameter(char* arg1, char* arg2, char* arg3, int64_t* arg4, int64_t* arg5) @ 0x12ABC))\n",
      "WARNING:hashashin.classes.py:Truncated dominator signature for binary_data/libcurl/curl-7_55_0/bin/curl: uint64_t operate_do(void* arg1, int64_t* arg2) @ 0x18027))\n",
      "WARNING:hashashin.classes.py:Truncated dominator signature for binary_data/libcurl/curl-7_55_0/bin/curl: uint64_t Curl_setopt(void* arg1, int32_t arg2, int32_t* arg3) @ 0x34F37))\n",
      "WARNING:hashashin.classes.py:Truncated dominator signature for binary_data/libcurl/curl-7_55_0/bin/curl: uint64_t Curl_connect(void* arg1, void*** arg2, char* arg3, char* arg4) @ 0x39075))\n",
      "WARNING:hashashin.classes.py:Truncated dominator signature for binary_data/libcurl/curl-7_70_0/bin/curl: uint64_t getparameter(char* arg1, char* arg2, char* arg3, int32_t* arg4, char* arg5) @ 0x16707))\n",
      "WARNING:hashashin.classes.py:Truncated dominator signature for binary_data/libcurl/curl-7_70_0/bin/curl: uint64_t create_transfer(int32_t* arg1, int64_t arg2, char* arg3) @ 0x1BF0C))\n",
      "WARNING:hashashin.classes.py:Truncated dominator signature for binary_data/libcurl/curl-7_70_0/bin/curl: uint64_t Curl_connect(char* arg1, char* arg2, char* arg3) @ 0x272B8))\n",
      "WARNING:hashashin.classes.py:Truncated dominator signature for binary_data/libcurl/curl-7_70_0/bin/curl: uint64_t Curl_vsetopt(void* arg1, int32_t arg2, int32_t* arg3) @ 0x3FCA5))\n",
      "WARNING:hashashin.classes.py:Truncated dominator signature for binary_data/libcurl/curl-7_55_1/bin/curl: uint64_t getparameter(char* arg1, char* arg2, char* arg3, int64_t* arg4, int64_t* arg5) @ 0x12B3C))\n",
      "WARNING:hashashin.classes.py:Truncated dominator signature for binary_data/libcurl/curl-7_55_1/bin/curl: uint64_t operate_do(void* arg1, int64_t* arg2) @ 0x180A7))\n",
      "WARNING:hashashin.classes.py:Truncated dominator signature for binary_data/libcurl/curl-7_55_1/bin/curl: uint64_t Curl_setopt(void* arg1, int32_t arg2, int32_t* arg3) @ 0x355AD))\n",
      "WARNING:hashashin.classes.py:Truncated dominator signature for binary_data/libcurl/curl-7_55_1/bin/curl: uint64_t Curl_connect(void* arg1, void*** arg2, char* arg3, char* arg4) @ 0x396F7))\n",
      "WARNING:hashashin.classes.py:Truncated dominator signature for binary_data/libcurl/curl-7_74_0/bin/curl: uint64_t getparameter(char* arg1, char* arg2, char* arg3, int32_t* arg4, char* arg5) @ 0x16879))\n",
      "WARNING:hashashin.classes.py:Truncated dominator signature for binary_data/libcurl/curl-7_74_0/bin/curl: uint64_t create_transfer(int32_t* arg1, int64_t arg2, char* arg3) @ 0x1C4B0))\n",
      "WARNING:hashashin.classes.py:Truncated dominator signature for binary_data/libcurl/curl-7_74_0/bin/curl: uint64_t Curl_connect(struct Elf64_Header** arg1, char* arg2, char* arg3) @ 0x27E4A))\n",
      "WARNING:hashashin.classes.py:Truncated dominator signature for binary_data/libcurl/curl-7_74_0/bin/curl: uint64_t Curl_vsetopt(void* arg1, int32_t arg2, int32_t* arg3) @ 0x41273))\n",
      "WARNING:hashashin.classes.py:Truncated dominator signature for binary_data/libcurl/curl-7_51_0/bin/curl: uint64_t getparameter(char* arg1, char* arg2, char* arg3, int64_t* arg4, int64_t* arg5) @ 0x107D2))\n",
      "WARNING:hashashin.classes.py:Truncated dominator signature for binary_data/libcurl/curl-7_51_0/bin/curl: uint64_t operate_do(void* arg1, int64_t* arg2) @ 0x1549D))\n",
      "WARNING:hashashin.classes.py:Truncated dominator signature for binary_data/libcurl/curl-7_51_0/bin/curl: uint64_t Curl_setopt(void* arg1, int32_t arg2, int32_t* arg3) @ 0x2FF88))\n",
      "WARNING:hashashin.classes.py:Truncated dominator signature for binary_data/libcurl/curl-7_69_1/bin/curl: uint64_t getparameter(char* arg1, char* arg2, char* arg3, int32_t* arg4, char* arg5) @ 0x15727))\n",
      "WARNING:hashashin.classes.py:Truncated dominator signature for binary_data/libcurl/curl-7_69_1/bin/curl: uint64_t create_transfer(int32_t* arg1, int64_t arg2, char* arg3) @ 0x1AEF1))\n",
      "WARNING:hashashin.classes.py:Truncated dominator signature for binary_data/libcurl/curl-7_69_1/bin/curl: uint64_t Curl_vsetopt(void* arg1, int32_t arg2, int32_t* arg3) @ 0x31091))\n",
      "WARNING:hashashin.classes.py:Truncated dominator signature for binary_data/libcurl/curl-7_69_1/bin/curl: uint64_t Curl_connect(char* arg1, char* arg2, char* arg3) @ 0x43EB5))\n",
      "WARNING:hashashin.classes.py:Truncated dominator signature for binary_data/libcurl/curl-7_65_3/bin/curl: uint64_t getparameter(char* arg1, char* arg2, char* arg3, int64_t* arg4, uint64_t arg5) @ 0x1550C))\n",
      "WARNING:hashashin.classes.py:Truncated dominator signature for binary_data/libcurl/curl-7_65_3/bin/curl: uint64_t Curl_vsetopt(void* arg1, int32_t arg2, int32_t* arg3) @ 0x2D820))\n",
      "WARNING:hashashin.classes.py:Truncated dominator signature for binary_data/libcurl/curl-7_65_3/bin/curl: uint64_t Curl_connect(void* arg1, char* arg2, char* arg3) @ 0x402F2))\n",
      "WARNING:hashashin.classes.py:Truncated dominator signature for binary_data/libcurl/curl-7_67_0/bin/curl: uint64_t getparameter(char* arg1, char* arg2, char* arg3, int32_t* arg4, char* arg5) @ 0x15537))\n",
      "WARNING:hashashin.classes.py:Truncated dominator signature for binary_data/libcurl/curl-7_67_0/bin/curl: uint64_t create_transfer(int32_t* arg1, int64_t arg2, char* arg3) @ 0x1AB15))\n",
      "WARNING:hashashin.classes.py:Truncated dominator signature for binary_data/libcurl/curl-7_67_0/bin/curl: uint64_t Curl_vsetopt(void* arg1, int32_t arg2, int32_t* arg3) @ 0x30464))\n",
      "WARNING:hashashin.classes.py:Truncated dominator signature for binary_data/libcurl/curl-7_84_0/bin/curl: uint64_t Curl_vsetopt(char* arg1, int32_t arg2, int32_t* arg3) @ 0x32D15))\n",
      "WARNING:hashashin.classes.py:Truncated dominator signature for binary_data/libcurl/curl-7_84_0/bin/curl: uint64_t Curl_connect(char* arg1, char* arg2, char* arg3, int64_t arg4) @ 0x3D310))\n",
      "WARNING:hashashin.classes.py:Truncated dominator signature for binary_data/libcurl/curl-7_63_0/bin/curl: uint64_t getparameter(char* arg1, char* arg2, char* arg3, int64_t* arg4, uint64_t arg5) @ 0x151D6))\n",
      "WARNING:hashashin.classes.py:Truncated dominator signature for binary_data/libcurl/curl-7_63_0/bin/curl: uint64_t Curl_vsetopt(void* arg1, int32_t arg2, int32_t* arg3) @ 0x2EC62))\n",
      "WARNING:hashashin.classes.py:Truncated dominator signature for binary_data/libcurl/curl-7_63_0/bin/curl: uint64_t Curl_connect(void* arg1, void*** arg2, char* arg3, char* arg4) @ 0x3F786))\n",
      "WARNING:hashashin.classes.py:Truncated dominator signature for binary_data/libcurl/curl-7_69_0/bin/curl: uint64_t getparameter(char* arg1, char* arg2, char* arg3, int32_t* arg4, char* arg5) @ 0x15707))\n",
      "WARNING:hashashin.classes.py:Truncated dominator signature for binary_data/libcurl/curl-7_69_0/bin/curl: uint64_t create_transfer(int32_t* arg1, int64_t arg2, char* arg3) @ 0x1AED1))\n",
      "WARNING:hashashin.classes.py:Truncated dominator signature for binary_data/libcurl/curl-7_69_0/bin/curl: uint64_t Curl_vsetopt(void* arg1, int32_t arg2, int32_t* arg3) @ 0x30D96))\n",
      "WARNING:hashashin.classes.py:Truncated dominator signature for binary_data/libcurl/curl-7_69_0/bin/curl: uint64_t Curl_connect(char* arg1, char* arg2, char* arg3) @ 0x43BB9))\n",
      "WARNING:hashashin.classes.py:Truncated dominator signature for binary_data/libcurl/curl-7_65_2/bin/curl: uint64_t getparameter(char* arg1, char* arg2, char* arg3, int64_t* arg4, uint64_t arg5) @ 0x1550C))\n",
      "WARNING:hashashin.classes.py:Truncated dominator signature for binary_data/libcurl/curl-7_65_2/bin/curl: uint64_t Curl_vsetopt(void* arg1, int32_t arg2, int32_t* arg3) @ 0x2D820))\n",
      "WARNING:hashashin.classes.py:Truncated dominator signature for binary_data/libcurl/curl-7_65_2/bin/curl: uint64_t Curl_connect(void* arg1, char* arg2, char* arg3) @ 0x40301))\n",
      "WARNING:hashashin.classes.py:Truncated dominator signature for binary_data/libcurl/curl-7_52_1/bin/curl: uint64_t getparameter(char* arg1, char* arg2, char* arg3, int64_t* arg4, int64_t* arg5) @ 0x11AB3))\n",
      "WARNING:hashashin.classes.py:Truncated dominator signature for binary_data/libcurl/curl-7_52_1/bin/curl: uint64_t operate_do(void* arg1, int64_t* arg2) @ 0x16B1F))\n",
      "WARNING:hashashin.classes.py:Truncated dominator signature for binary_data/libcurl/curl-7_52_1/bin/curl: uint64_t Curl_setopt(void* arg1, int32_t arg2, int32_t* arg3) @ 0x3264C))\n",
      "WARNING:hashashin.classes.py:Truncated dominator signature for binary_data/libcurl/curl-7_52_1/bin/curl: uint64_t Curl_connect(void* arg1, void*** arg2, char* arg3, char* arg4) @ 0x3661F))\n",
      "WARNING:hashashin.classes.py:Truncated dominator signature for binary_data/libcurl/curl-7_73_0/bin/curl: uint64_t getparameter(char* arg1, char* arg2, char* arg3, int32_t* arg4, char* arg5) @ 0x16878))\n",
      "WARNING:hashashin.classes.py:Truncated dominator signature for binary_data/libcurl/curl-7_73_0/bin/curl: uint64_t Curl_vsetopt(void* arg1, int32_t arg2, int32_t* arg3) @ 0x41016))\n",
      "WARNING:hashashin.classes.py:Truncated dominator signature for binary_data/libcurl/curl-7_79_0/bin/curl: uint64_t create_transfer(int32_t* arg1, int64_t arg2, char* arg3) @ 0x1DB8D))\n",
      "WARNING:hashashin.classes.py:Truncated dominator signature for binary_data/libcurl/curl-7_79_0/bin/curl: uint64_t Curl_vsetopt(void* arg1, int32_t arg2, int32_t* arg3) @ 0x322AC))\n",
      "WARNING:hashashin.classes.py:Truncated dominator signature for binary_data/libcurl/curl-7_79_0/bin/curl: uint64_t Curl_connect(struct Elf64_Header** arg1, char* arg2, char* arg3, int64_t arg4) @ 0x3C82A))\n",
      "WARNING:hashashin.classes.py:Truncated dominator signature for binary_data/libcurl/curl-7_50_2/bin/curl: uint64_t getparameter(char* arg1, char* arg2, char* arg3, int64_t* arg4, int64_t* arg5) @ 0x107D3))\n",
      "WARNING:hashashin.classes.py:Truncated dominator signature for binary_data/libcurl/curl-7_50_2/bin/curl: uint64_t operate_do(void* arg1, int64_t* arg2) @ 0x15487))\n",
      "WARNING:hashashin.classes.py:Truncated dominator signature for binary_data/libcurl/curl-7_50_2/bin/curl: uint64_t Curl_setopt(void* arg1, int32_t arg2, int32_t* arg3) @ 0x2FC87))\n",
      "WARNING:hashashin.classes.py:Truncated dominator signature for binary_data/libcurl/curl-7_56_0/bin/curl: uint64_t getparameter(char* arg1, char* arg2, char* arg3, int64_t* arg4, int64_t* arg5) @ 0x13793))\n",
      "WARNING:hashashin.classes.py:Truncated dominator signature for binary_data/libcurl/curl-7_56_0/bin/curl: uint64_t operate_do(void* arg1, int64_t* arg2) @ 0x18CD1))\n",
      "WARNING:hashashin.classes.py:Truncated dominator signature for binary_data/libcurl/curl-7_56_0/bin/curl: uint64_t Curl_setopt(void* arg1, int32_t arg2, int32_t* arg3) @ 0x36FDC))\n",
      "WARNING:hashashin.classes.py:Truncated dominator signature for binary_data/libcurl/curl-7_56_0/bin/curl: uint64_t Curl_connect(void* arg1, void*** arg2, char* arg3, char* arg4) @ 0x3B255))\n",
      "WARNING:hashashin.classes.py:Truncated dominator signature for binary_data/libcurl/curl-7_79_1/bin/curl: uint64_t create_transfer(int32_t* arg1, int64_t arg2, char* arg3) @ 0x1DB8D))\n",
      "WARNING:hashashin.classes.py:Truncated dominator signature for binary_data/libcurl/curl-7_79_1/bin/curl: uint64_t Curl_vsetopt(void* arg1, int32_t arg2, int32_t* arg3) @ 0x3234C))\n",
      "WARNING:hashashin.classes.py:Truncated dominator signature for binary_data/libcurl/curl-7_79_1/bin/curl: uint64_t Curl_connect(struct Elf64_Header** arg1, char* arg2, char* arg3, int64_t arg4) @ 0x3C8D3))\n",
      "WARNING:hashashin.classes.py:Truncated dominator signature for binary_data/libcurl/curl-7_58_0/bin/curl: uint64_t getparameter(char* arg1, char* arg2, char* arg3, int64_t* arg4, int64_t* arg5) @ 0x14D25))\n",
      "WARNING:hashashin.classes.py:Truncated dominator signature for binary_data/libcurl/curl-7_58_0/bin/curl: uint64_t operate_do(void* arg1, int64_t* arg2) @ 0x1A209))\n",
      "WARNING:hashashin.classes.py:Truncated dominator signature for binary_data/libcurl/curl-7_58_0/bin/curl: uint64_t Curl_vsetopt(void* arg1, int32_t arg2, int32_t* arg3) @ 0x2E215))\n",
      "WARNING:hashashin.classes.py:Truncated dominator signature for binary_data/libcurl/curl-7_52_0/bin/curl: uint64_t getparameter(char* arg1, char* arg2, char* arg3, int64_t* arg4, int64_t* arg5) @ 0x11AB3))\n",
      "WARNING:hashashin.classes.py:Truncated dominator signature for binary_data/libcurl/curl-7_52_0/bin/curl: uint64_t operate_do(void* arg1, int64_t* arg2) @ 0x16B1F))\n",
      "WARNING:hashashin.classes.py:Truncated dominator signature for binary_data/libcurl/curl-7_52_0/bin/curl: uint64_t Curl_setopt(void* arg1, int32_t arg2, int32_t* arg3) @ 0x32681))\n",
      "WARNING:hashashin.classes.py:Truncated dominator signature for binary_data/libcurl/curl-7_52_0/bin/curl: uint64_t Curl_connect(void* arg1, void*** arg2, char* arg3, char* arg4) @ 0x36654))\n",
      "WARNING:hashashin.classes.py:Truncated dominator signature for binary_data/libcurl/curl-7_77_0/bin/curl: uint64_t getparameter(char* arg1, char* arg2, char* arg3, int32_t* arg4, char* arg5) @ 0x17878))\n",
      "WARNING:hashashin.classes.py:Truncated dominator signature for binary_data/libcurl/curl-7_77_0/bin/curl: uint64_t create_transfer(int32_t* arg1, int64_t arg2, char* arg3) @ 0x1D6FA))\n",
      "WARNING:hashashin.classes.py:Truncated dominator signature for binary_data/libcurl/curl-7_77_0/bin/curl: uint64_t Curl_vsetopt(void* arg1, int32_t arg2, int32_t* arg3) @ 0x31D87))\n",
      "WARNING:hashashin.classes.py:Truncated dominator signature for binary_data/libcurl/curl-7_77_0/bin/curl: uint64_t Curl_connect(struct Elf64_Header** arg1, char* arg2, char* arg3, int64_t arg4) @ 0x3C2A3))\n",
      "WARNING:hashashin.classes.py:Truncated dominator signature for binary_data/libcurl/curl-7_56_1/bin/curl: uint64_t getparameter(char* arg1, char* arg2, char* arg3, int64_t* arg4, int64_t* arg5) @ 0x139D0))\n",
      "WARNING:hashashin.classes.py:Truncated dominator signature for binary_data/libcurl/curl-7_56_1/bin/curl: uint64_t operate_do(void* arg1, int64_t* arg2) @ 0x18F0E))\n",
      "WARNING:hashashin.classes.py:Truncated dominator signature for binary_data/libcurl/curl-7_56_1/bin/curl: uint64_t Curl_setopt(void* arg1, int32_t arg2, int32_t* arg3) @ 0x37310))\n",
      "WARNING:hashashin.classes.py:Truncated dominator signature for binary_data/libcurl/curl-7_56_1/bin/curl: uint64_t Curl_connect(void* arg1, void*** arg2, char* arg3, char* arg4) @ 0x3B781))\n",
      "WARNING:hashashin.classes.py:Truncated dominator signature for binary_data/openssl/openssl-3.0.1/bin/openssl: int32_t cms_main(uint32_t arg1, uint32_t arg2) @ 0x41806))\n",
      "WARNING:hashashin.classes.py:Truncated dominator signature for binary_data/openssl/openssl-3.0.1/bin/openssl: uint32_t req_main(void* arg1 @ edi, uint32_t arg2, int32_t* arg3) @ 0x5A969))\n",
      "WARNING:hashashin.classes.py:Truncated dominator signature for binary_data/openssl/openssl-3.0.1/bin/openssl: int32_t s_client_main(char* arg1, uint32_t arg2) @ 0x5F728))\n",
      "WARNING:hashashin.classes.py:Truncated dominator signature for binary_data/openssl/openssl-3.0.1/bin/openssl: int32_t speed_main(long double arg1 @ st7, uint32_t arg2, uint32_t arg3) @ 0x6D6A8))\n",
      "WARNING:hashashin.classes.py:Truncated dominator signature for binary_data/openssl/openssl-3.0.0/bin/openssl: int32_t cms_main(uint32_t arg1, uint32_t arg2) @ 0x41712))\n",
      "WARNING:hashashin.classes.py:Truncated dominator signature for binary_data/openssl/openssl-3.0.0/bin/openssl: uint32_t req_main(void* arg1 @ edi, uint32_t arg2, int32_t* arg3) @ 0x5A86C))\n",
      "WARNING:hashashin.classes.py:Truncated dominator signature for binary_data/openssl/openssl-3.0.0/bin/openssl: int32_t s_client_main(char* arg1, uint32_t arg2) @ 0x5F62B))\n",
      "WARNING:hashashin.classes.py:Truncated dominator signature for binary_data/openssl/openssl-3.0.0/bin/openssl: int32_t speed_main(long double arg1 @ st7, uint32_t arg2, uint32_t arg3) @ 0x6D546))\n",
      "WARNING:hashashin.classes.py:Truncated dominator signature for binary_data/openssl/openssl-3.0.5/bin/openssl: int32_t cms_main(uint32_t arg1, uint32_t arg2) @ 0x41A16))\n",
      "WARNING:hashashin.classes.py:Truncated dominator signature for binary_data/openssl/openssl-3.0.5/bin/openssl: int32_t req_main(void* arg1 @ ebp, uint32_t arg2, int32_t* arg3) @ 0x5AC00))\n",
      "WARNING:hashashin.classes.py:Truncated dominator signature for binary_data/openssl/openssl-3.0.5/bin/openssl: int32_t s_client_main(int32_t arg1, uint32_t arg2) @ 0x5FA21))\n",
      "WARNING:hashashin.classes.py:Truncated dominator signature for binary_data/openssl/openssl-3.0.2/bin/openssl: int32_t cms_main(uint32_t arg1, uint32_t arg2) @ 0x419EB))\n",
      "WARNING:hashashin.classes.py:Truncated dominator signature for binary_data/openssl/openssl-3.0.2/bin/openssl: uint32_t req_main(void* arg1 @ edi, uint32_t arg2, int32_t* arg3) @ 0x5AB80))\n",
      "WARNING:hashashin.classes.py:Truncated dominator signature for binary_data/openssl/openssl-3.0.2/bin/openssl: int32_t s_client_main(int32_t arg1, uint32_t arg2) @ 0x5F976))\n",
      "WARNING:hashashin.classes.py:Truncated dominator signature for binary_data/openssl/openssl-3.0.3/bin/openssl: int32_t cms_main(uint32_t arg1, uint32_t arg2) @ 0x41A0A))\n",
      "WARNING:hashashin.classes.py:Truncated dominator signature for binary_data/openssl/openssl-3.0.3/bin/openssl: int32_t req_main(void* arg1 @ ebp, uint32_t arg2, int32_t* arg3) @ 0x5ABAE))\n",
      "WARNING:hashashin.classes.py:Truncated dominator signature for binary_data/openssl/openssl-3.0.3/bin/openssl: int32_t s_client_main(int32_t arg1, uint32_t arg2) @ 0x5F9D0))\n",
      "WARNING:hashashin.classes.py:Truncated dominator signature for binary_data/openssl/openssl-3.0.4/bin/openssl: int32_t cms_main(uint32_t arg1, uint32_t arg2) @ 0x41A0A))\n",
      "WARNING:hashashin.classes.py:Truncated dominator signature for binary_data/openssl/openssl-3.0.4/bin/openssl: int32_t req_main(void* arg1 @ ebp, uint32_t arg2, int32_t* arg3) @ 0x5ABD2))\n",
      "WARNING:hashashin.classes.py:Truncated dominator signature for binary_data/openssl/openssl-3.0.4/bin/openssl: int32_t s_client_main(int32_t arg1, uint32_t arg2) @ 0x5F9F3))\n"
     ]
    },
    {
     "ename": "FileNotFoundError",
     "evalue": "File hashashin/binary_data/echo does not exist.",
     "output_type": "error",
     "traceback": [
      "\u001B[0;31m---------------------------------------------------------------------------\u001B[0m",
      "\u001B[0;31mFileNotFoundError\u001B[0m                         Traceback (most recent call last)",
      "Cell \u001B[0;32mIn[31], line 1\u001B[0m\n\u001B[0;32m----> 1\u001B[0m \u001B[43mmatchApp\u001B[49m\u001B[38;5;241;43m.\u001B[39;49m\u001B[43m_match\u001B[49m\u001B[43m(\u001B[49m\u001B[43mnet_snmp2\u001B[49m\u001B[43m[\u001B[49m\u001B[38;5;241;43m0\u001B[39;49m\u001B[43m]\u001B[49m\u001B[43m)\u001B[49m\n",
      "File \u001B[0;32m~/Documents/Projects/hashashin/hashashin/main.py:72\u001B[0m, in \u001B[0;36mBinaryMatcherApplication._match\u001B[0;34m(self, sig)\u001B[0m\n\u001B[1;32m     66\u001B[0m \u001B[38;5;28;01mdef\u001B[39;00m \u001B[38;5;21m_match\u001B[39m(\u001B[38;5;28mself\u001B[39m, sig: BinarySignature) \u001B[38;5;241m-\u001B[39m\u001B[38;5;241m>\u001B[39m \u001B[38;5;28mlist\u001B[39m[BinarySignature]:\n\u001B[1;32m     67\u001B[0m     \u001B[38;5;124;03m\"\"\"\u001B[39;00m\n\u001B[1;32m     68\u001B[0m \u001B[38;5;124;03m    Match a binary signature against the database.\u001B[39;00m\n\u001B[1;32m     69\u001B[0m \u001B[38;5;124;03m    :param sig: signature to match\u001B[39;00m\n\u001B[1;32m     70\u001B[0m \u001B[38;5;124;03m    :return: a list of matching signatures sorted by distance\u001B[39;00m\n\u001B[1;32m     71\u001B[0m \u001B[38;5;124;03m    \"\"\"\u001B[39;00m\n\u001B[0;32m---> 72\u001B[0m     \u001B[38;5;28;01mreturn\u001B[39;00m \u001B[38;5;28;43mself\u001B[39;49m\u001B[38;5;241;43m.\u001B[39;49m\u001B[43mcontext\u001B[49m\u001B[38;5;241;43m.\u001B[39;49m\u001B[43mhash_repo\u001B[49m\u001B[38;5;241;43m.\u001B[39;49m\u001B[43mbinary_repo\u001B[49m\u001B[38;5;241;43m.\u001B[39;49m\u001B[43mmatch_signature\u001B[49m\u001B[43m(\u001B[49m\n\u001B[1;32m     73\u001B[0m \u001B[43m        \u001B[49m\u001B[43msig\u001B[49m\u001B[43m,\u001B[49m\u001B[43m \u001B[49m\u001B[38;5;28;43mself\u001B[39;49m\u001B[38;5;241;43m.\u001B[39;49m\u001B[43mcontext\u001B[49m\u001B[38;5;241;43m.\u001B[39;49m\u001B[43msig_match_threshold\u001B[49m\n\u001B[1;32m     74\u001B[0m \u001B[43m    \u001B[49m\u001B[43m)\u001B[49m\n",
      "File \u001B[0;32m~/Documents/Projects/hashashin/hashashin/db.py:169\u001B[0m, in \u001B[0;36mSQLAlchemyBinarySignatureRepository.match_signature\u001B[0;34m(self, signature, threshold)\u001B[0m\n\u001B[1;32m    167\u001B[0m         \u001B[38;5;28mbreakpoint\u001B[39m()\n\u001B[1;32m    168\u001B[0m         \u001B[38;5;28;01mpass\u001B[39;00m\n\u001B[0;32m--> 169\u001B[0m sorted_signatures \u001B[38;5;241m=\u001B[39m \u001B[38;5;28;43msorted\u001B[39;49m\u001B[43m(\u001B[49m\n\u001B[1;32m    170\u001B[0m \u001B[43m    \u001B[49m\u001B[43msignatures\u001B[49m\u001B[43m,\u001B[49m\n\u001B[1;32m    171\u001B[0m \u001B[43m    \u001B[49m\u001B[43mkey\u001B[49m\u001B[38;5;241;43m=\u001B[39;49m\u001B[38;5;28;43;01mlambda\u001B[39;49;00m\u001B[43m \u001B[49m\u001B[43msig\u001B[49m\u001B[43m:\u001B[49m\u001B[43m \u001B[49m\u001B[43mBinarySignature\u001B[49m\u001B[38;5;241;43m.\u001B[39;49m\u001B[43mfromModel\u001B[49m\u001B[43m(\u001B[49m\u001B[43msig\u001B[49m\u001B[43m)\u001B[49m\u001B[43m \u001B[49m\u001B[38;5;241;43m/\u001B[39;49m\u001B[38;5;241;43m/\u001B[39;49m\u001B[43m \u001B[49m\u001B[43msignature\u001B[49m\u001B[43m,\u001B[49m\n\u001B[1;32m    172\u001B[0m \u001B[43m    \u001B[49m\u001B[43mreverse\u001B[49m\u001B[38;5;241;43m=\u001B[39;49m\u001B[38;5;28;43;01mTrue\u001B[39;49;00m\u001B[43m,\u001B[49m\n\u001B[1;32m    173\u001B[0m \u001B[43m\u001B[49m\u001B[43m)\u001B[49m\n\u001B[1;32m    174\u001B[0m \u001B[38;5;28;01mreturn\u001B[39;00m [\n\u001B[1;32m    175\u001B[0m     sig\n\u001B[1;32m    176\u001B[0m     \u001B[38;5;28;01mfor\u001B[39;00m sig \u001B[38;5;129;01min\u001B[39;00m sorted_signatures\n\u001B[1;32m    177\u001B[0m     \u001B[38;5;28;01mif\u001B[39;00m BinarySignature\u001B[38;5;241m.\u001B[39mfromModel(sig) \u001B[38;5;241m/\u001B[39m\u001B[38;5;241m/\u001B[39m signature \u001B[38;5;241m>\u001B[39m threshold\n\u001B[1;32m    178\u001B[0m ]\n",
      "File \u001B[0;32m~/Documents/Projects/hashashin/hashashin/db.py:171\u001B[0m, in \u001B[0;36mSQLAlchemyBinarySignatureRepository.match_signature.<locals>.<lambda>\u001B[0;34m(sig)\u001B[0m\n\u001B[1;32m    167\u001B[0m         \u001B[38;5;28mbreakpoint\u001B[39m()\n\u001B[1;32m    168\u001B[0m         \u001B[38;5;28;01mpass\u001B[39;00m\n\u001B[1;32m    169\u001B[0m sorted_signatures \u001B[38;5;241m=\u001B[39m \u001B[38;5;28msorted\u001B[39m(\n\u001B[1;32m    170\u001B[0m     signatures,\n\u001B[0;32m--> 171\u001B[0m     key\u001B[38;5;241m=\u001B[39m\u001B[38;5;28;01mlambda\u001B[39;00m sig: \u001B[43mBinarySignature\u001B[49m\u001B[38;5;241;43m.\u001B[39;49m\u001B[43mfromModel\u001B[49m\u001B[43m(\u001B[49m\u001B[43msig\u001B[49m\u001B[43m)\u001B[49m \u001B[38;5;241m/\u001B[39m\u001B[38;5;241m/\u001B[39m signature,\n\u001B[1;32m    172\u001B[0m     reverse\u001B[38;5;241m=\u001B[39m\u001B[38;5;28;01mTrue\u001B[39;00m,\n\u001B[1;32m    173\u001B[0m )\n\u001B[1;32m    174\u001B[0m \u001B[38;5;28;01mreturn\u001B[39;00m [\n\u001B[1;32m    175\u001B[0m     sig\n\u001B[1;32m    176\u001B[0m     \u001B[38;5;28;01mfor\u001B[39;00m sig \u001B[38;5;129;01min\u001B[39;00m sorted_signatures\n\u001B[1;32m    177\u001B[0m     \u001B[38;5;28;01mif\u001B[39;00m BinarySignature\u001B[38;5;241m.\u001B[39mfromModel(sig) \u001B[38;5;241m/\u001B[39m\u001B[38;5;241m/\u001B[39m signature \u001B[38;5;241m>\u001B[39m threshold\n\u001B[1;32m    178\u001B[0m ]\n",
      "File \u001B[0;32m~/Documents/Projects/hashashin/hashashin/classes.py:523\u001B[0m, in \u001B[0;36mBinarySignature.fromModel\u001B[0;34m(cls, model)\u001B[0m\n\u001B[1;32m    521\u001B[0m \u001B[38;5;129m@classmethod\u001B[39m\n\u001B[1;32m    522\u001B[0m \u001B[38;5;28;01mdef\u001B[39;00m \u001B[38;5;21mfromModel\u001B[39m(\u001B[38;5;28mcls\u001B[39m, model: BinarySigModel) \u001B[38;5;241m-\u001B[39m\u001B[38;5;241m>\u001B[39m \u001B[38;5;124m\"\u001B[39m\u001B[38;5;124mBinarySignature\u001B[39m\u001B[38;5;124m\"\u001B[39m:\n\u001B[0;32m--> 523\u001B[0m     \u001B[38;5;28;01mreturn\u001B[39;00m \u001B[38;5;28;43mcls\u001B[39;49m\u001B[43m(\u001B[49m\n\u001B[1;32m    524\u001B[0m \u001B[43m        \u001B[49m\u001B[43mPath\u001B[49m\u001B[43m(\u001B[49m\u001B[43mmodel\u001B[49m\u001B[38;5;241;43m.\u001B[39;49m\u001B[43mpath\u001B[49m\u001B[43m)\u001B[49m\u001B[43m,\u001B[49m\n\u001B[1;32m    525\u001B[0m \u001B[43m        \u001B[49m\u001B[43m[\u001B[49m\u001B[43mFunctionFeatures\u001B[49m\u001B[38;5;241;43m.\u001B[39;49m\u001B[43mfromModel\u001B[49m\u001B[43m(\u001B[49m\u001B[43mf\u001B[49m\u001B[43m)\u001B[49m\u001B[43m \u001B[49m\u001B[38;5;28;43;01mfor\u001B[39;49;00m\u001B[43m \u001B[49m\u001B[43mf\u001B[49m\u001B[43m \u001B[49m\u001B[38;5;129;43;01min\u001B[39;49;00m\u001B[43m \u001B[49m\u001B[43mmodel\u001B[49m\u001B[38;5;241;43m.\u001B[39;49m\u001B[43mfunctions\u001B[49m\u001B[43m]\u001B[49m\u001B[43m,\u001B[49m\n\u001B[1;32m    526\u001B[0m \u001B[43m        \u001B[49m\u001B[43mextractor_from_name\u001B[49m\u001B[43m(\u001B[49m\u001B[43mmodel\u001B[49m\u001B[38;5;241;43m.\u001B[39;49m\u001B[43mextraction_engine\u001B[49m\u001B[43m)\u001B[49m\u001B[43m,\u001B[49m\n\u001B[1;32m    527\u001B[0m \u001B[43m    \u001B[49m\u001B[43m)\u001B[49m\n",
      "File \u001B[0;32m<string>:8\u001B[0m, in \u001B[0;36m__init__\u001B[0;34m(self, path, functionFeatureList, extraction_engine, cached_signature, cached_array)\u001B[0m\n",
      "File \u001B[0;32m~/Documents/Projects/hashashin/hashashin/classes.py:508\u001B[0m, in \u001B[0;36mBinarySignature.__post_init__\u001B[0;34m(self)\u001B[0m\n\u001B[1;32m    506\u001B[0m \u001B[38;5;28;01mdef\u001B[39;00m \u001B[38;5;21m__post_init__\u001B[39m(\u001B[38;5;28mself\u001B[39m):\n\u001B[1;32m    507\u001B[0m     \u001B[38;5;28;01mif\u001B[39;00m \u001B[38;5;129;01mnot\u001B[39;00m \u001B[38;5;28mself\u001B[39m\u001B[38;5;241m.\u001B[39mpath\u001B[38;5;241m.\u001B[39mexists():\n\u001B[0;32m--> 508\u001B[0m         \u001B[38;5;28;01mraise\u001B[39;00m \u001B[38;5;167;01mFileNotFoundError\u001B[39;00m(\u001B[38;5;124mf\u001B[39m\u001B[38;5;124m\"\u001B[39m\u001B[38;5;124mFile \u001B[39m\u001B[38;5;132;01m{\u001B[39;00m\u001B[38;5;28mself\u001B[39m\u001B[38;5;241m.\u001B[39mpath\u001B[38;5;132;01m}\u001B[39;00m\u001B[38;5;124m does not exist.\u001B[39m\u001B[38;5;124m\"\u001B[39m)\n\u001B[1;32m    509\u001B[0m     \u001B[38;5;28;01mif\u001B[39;00m \u001B[38;5;129;01mnot\u001B[39;00m \u001B[38;5;28mself\u001B[39m\u001B[38;5;241m.\u001B[39mextraction_engine:\n\u001B[1;32m    510\u001B[0m         \u001B[38;5;28mself\u001B[39m\u001B[38;5;241m.\u001B[39mextraction_engine \u001B[38;5;241m=\u001B[39m \u001B[38;5;28mself\u001B[39m\u001B[38;5;241m.\u001B[39mfunctionFeatureList[\u001B[38;5;241m0\u001B[39m]\u001B[38;5;241m.\u001B[39mextraction_engine\n",
      "\u001B[0;31mFileNotFoundError\u001B[0m: File hashashin/binary_data/echo does not exist."
     ]
    }
   ],
   "source": [
    "matchApp._match(net_snmp2[0])"
   ],
   "metadata": {
    "collapsed": false
   }
  },
  {
   "cell_type": "code",
   "execution_count": 1,
   "outputs": [],
   "source": [
    "from hashashin.main import ApplicationFactory, HashashinApplicationContext\n",
    "from hashashin.classes import BinjaFeatureExtractor\n",
    "from hashashin.db import HashRepository\n",
    "app_context = HashashinApplicationContext(\n",
    "                extractor=BinjaFeatureExtractor(),\n",
    "                hash_repo=HashRepository(),\n",
    "                target_path=None,\n",
    "                save_to_db=True\n",
    "            )\n"
   ],
   "metadata": {
    "collapsed": false
   }
  },
  {
   "cell_type": "code",
   "execution_count": 5,
   "outputs": [
    {
     "name": "stderr",
     "output_type": "stream",
     "text": [
      "WARNING:hashashin.classes.py:Wasting space here, can shorten array by 256 bytes by using uint32\n"
     ]
    },
    {
     "data": {
      "text/plain": "[BinarySigModel(binary_data/net-snmp/v5.9.3/bin/snmptranslate, b'\\x00\\xfbL\\x97\\xbc\\x84:\\xd7', b'x\\x9ck\\xec\\x90g\\x00\\x01CYf0\\x9d\"\\xc5\\t\\xa6\\x9b\\x9c tf\\x06D\\xbc\\xbf\\x88\\x05L?\\xcf\\x97\\x05\\xd3\\xefB5\\xc0t\\x88\\x06D<D\\x1a\\xa2\\xfe\\x94#\\x98b\\xd8\\x97\\xce\\x0b\\xa6\\x19\\xbb\\x05\\xc14\\xbb>\\x84\\xberR\\x04Lo[\\xc5\\x06\\xa6\\xab\\xb5\\xc4\\xc0t\\xb2\\'\\xc4\\x9e\\x8f\\x8d\\x10\\xfd\\x99\\xceB`\\x1a\\x00\\xbb\\x8b\\x12O', BinjaFeatureExtractor(3.3.4012-dev)),\n BinarySigModel(binary_data/net-snmp/v5.9.2/bin/snmptranslate, b'\\xb1y\\x1a\\xb6\\x92\\x8b|s', b'x\\x9ck\\xec\\x90g\\x00\\x01CYf0\\x9d\"\\xc5\\t\\xa6\\x9b\\x9c tf\\x06D\\xbc\\xbf\\x88\\x05L?\\xcf\\x97\\x05\\xd3\\xefB5\\xc0t\\x88\\x06D<D\\x1a\\xa2\\xfe\\x94#\\x98b\\xd8\\x97\\xce\\x0b\\xa6\\x19\\xbb\\x05\\xc14\\xbb>\\x84\\xberR\\x04Lo[\\xc5\\x06\\xa6\\xab\\xb5\\xc4\\xc0t\\xb2\\'\\xc4\\x9e\\x8f\\x8d\\x10\\xfd\\x99\\xceB`\\x1a\\x00\\xbb\\x8b\\x12O', BinjaFeatureExtractor(3.3.4012-dev))]"
     },
     "execution_count": 5,
     "metadata": {},
     "output_type": "execute_result"
    }
   ],
   "source": [
    "app_context.hash_repo.binary_repo.fast_match(net_snmp2[0])\n"
   ],
   "metadata": {
    "collapsed": false
   }
  }
 ],
 "metadata": {
  "kernelspec": {
   "display_name": "Python 3",
   "language": "python",
   "name": "python3"
  },
  "language_info": {
   "codemirror_mode": {
    "name": "ipython",
    "version": 2
   },
   "file_extension": ".py",
   "mimetype": "text/x-python",
   "name": "python",
   "nbconvert_exporter": "python",
   "pygments_lexer": "ipython2",
   "version": "2.7.6"
  }
 },
 "nbformat": 4,
 "nbformat_minor": 0
}
