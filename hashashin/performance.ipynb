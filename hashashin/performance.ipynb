{
 "cells": [
  {
   "cell_type": "code",
   "execution_count": 1,
   "metadata": {
    "collapsed": true
   },
   "outputs": [],
   "source": [
    "import os\n",
    "import hashashin\n",
    "import seaborn as sns\n",
    "import numpy as np\n",
    "from pathlib import Path\n",
    "BINARY_DIR = Path('.').parent / 'binary_data'\n",
    "\n",
    "def show_similarity_matrix(mat, labels, title=None, font_scale=0.7, figsize=(14, 14)):\n",
    "    if isinstance(mat, list):\n",
    "        mat = np.array(mat)\n",
    "    if isinstance(labels, list):\n",
    "        labels = np.array(labels)\n",
    "    sns.set(font_scale=font_scale, rc={'figure.figsize':figsize, 'axes.titlesize': 20})\n",
    "    sns.heatmap(mat, xticklabels=labels, yticklabels=labels, cmap='Blues', annot=True).set(title=title)"
   ]
  },
  {
   "cell_type": "code",
   "execution_count": 4,
   "outputs": [
    {
     "name": "stdout",
     "output_type": "stream",
     "text": [
      "True\n"
     ]
    }
   ],
   "source": [],
   "metadata": {
    "collapsed": false
   }
  },
  {
   "cell_type": "code",
   "execution_count": null,
   "outputs": [],
   "source": [],
   "metadata": {
    "collapsed": false
   }
  }
 ],
 "metadata": {
  "kernelspec": {
   "display_name": "Python 3",
   "language": "python",
   "name": "python3"
  },
  "language_info": {
   "codemirror_mode": {
    "name": "ipython",
    "version": 2
   },
   "file_extension": ".py",
   "mimetype": "text/x-python",
   "name": "python",
   "nbconvert_exporter": "python",
   "pygments_lexer": "ipython2",
   "version": "2.7.6"
  }
 },
 "nbformat": 4,
 "nbformat_minor": 0
}
